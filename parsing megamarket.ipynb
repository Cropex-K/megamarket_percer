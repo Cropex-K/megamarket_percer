{
 "cells": [
  {
   "cell_type": "code",
   "execution_count": 1,
   "id": "a8663097",
   "metadata": {},
   "outputs": [],
   "source": [
    "import requests\n",
    "import pandas as pd\n",
    "import os\n",
    "from datetime import datetime\n",
    "import time"
   ]
  },
  {
   "cell_type": "code",
   "execution_count": 97,
   "id": "7f6416e3",
   "metadata": {},
   "outputs": [],
   "source": [
    "def find_class_in_block(block, class_name: str):\n",
    "    class_title = block.find(class_name)\n",
    "    return block[class_title:block.find('</a>', class_title)]\n",
    "\n",
    "\n",
    "def find_obj_by_trigger(cl, trigger, end_trigger):\n",
    "    len_tr = len(trigger)\n",
    "    loc_tr = cl.find(trigger)\n",
    "    return cl[loc_tr+len_tr+1: cl.find(end_trigger, loc_tr+len_tr+1)]\n",
    "\n",
    "\n",
    "def string_obj(val):\n",
    "    return f''' Продавец {val['Продавец']}\n",
    "    Цена {val['Цена']}\n",
    "    Бонусы {val['Бонусы']}\n",
    "    Итого {val['Итог за вычетом бонуса']}\n",
    "    Ссылка на карточку {val['Ссылка']}\n",
    "    '''"
   ]
  },
  {
   "cell_type": "code",
   "execution_count": 199,
   "id": "2e789dad",
   "metadata": {},
   "outputs": [],
   "source": [
    "def get_df_prices(ref_for_category):\n",
    "    compare_prices = {}\n",
    "\n",
    "    #ref_for_category = 'https://megamarket.ru/catalog/igrovye-pristavki-playstation/set-ps-5/'\n",
    "\n",
    "    page = 1\n",
    "    while True:\n",
    "        print(page)\n",
    "        search_result = requests.get(f'{ref_for_category}page-{page}')\n",
    "        search_result.encoding = 'br'\n",
    "\n",
    "        ost = search_result.text.split('<div class=\"sticky-element\"><div class=\"catalog-listing__items catalog-listing__items_divider\">')\n",
    "        if len(ost) < 2:\n",
    "            break\n",
    "        ost_ids = ost[1]\n",
    "\n",
    "        lists_count = ost_ids.split('<nav class=\"pager catalog-listing__pager\">')[1]\n",
    "        ost_ids = ost_ids.split('<nav class=\"pager catalog-listing__pager\">')[0]\n",
    "        ids = ost_ids.split('<div id=')[1:]\n",
    "\n",
    "        for id_pr in ids:\n",
    "            cl=find_class_in_block(id_pr, '<div class=\"item-title\">')\n",
    "            product_id = find_obj_by_trigger(cl, 'data-product-id=', '\"')\n",
    "            name = find_obj_by_trigger(cl, 'title=', '\"')\n",
    "            ref = 'https://megamarket.ru'+find_obj_by_trigger(cl, 'href=', '\"')\n",
    "\n",
    "            cl_merch = find_class_in_block(id_pr, '<div class=\"merchant-info__name\"')\n",
    "            saler = find_obj_by_trigger(cl_merch, '<div class=\"merchant-info__name\"', '<')\n",
    "\n",
    "            cl_price = find_class_in_block(id_pr, '<div class=\"item-money\"')\n",
    "\n",
    "            if len(cl_price) <2:\n",
    "                break\n",
    "            price = find_obj_by_trigger(cl_price, '<div class=\"item-price\"><span', '<')\n",
    "            price = int(price[:-2].replace(' ', ''))\n",
    "            bonus = find_obj_by_trigger(cl_price, '<span class=\"bonus-amount\"', '<')\n",
    "            try:\n",
    "                bonus = int(bonus.replace(' ', ''))\n",
    "            except ValueError:\n",
    "                bonus = 0\n",
    "\n",
    "            compare_prices[product_id] = {'id': product_id,\n",
    "                             'Наименование': name,\n",
    "                             'Ссылка': ref,\n",
    "                             'Продавец': saler,\n",
    "                             'Цена': price,\n",
    "                             'Бонусы': bonus,\n",
    "                             'Итог за вычетом бонуса': price-bonus}\n",
    "        page += 1\n",
    "\n",
    "    res = pd.DataFrame().from_dict(compare_prices, orient='index').sort_values(by='Итог за вычетом бонуса')\n",
    "\n",
    "    return f'''Топ 3 варианта:\n",
    "    1. {string_obj(res.iloc[0])}\n",
    "    2. {string_obj(res.iloc[1])}\n",
    "    3. {string_obj(res.iloc[2])}'''"
   ]
  },
  {
   "cell_type": "code",
   "execution_count": null,
   "id": "085bac38",
   "metadata": {},
   "outputs": [],
   "source": [
    "get_df_prices(ref)"
   ]
  },
  {
   "cell_type": "code",
   "execution_count": 224,
   "id": "4466eff2",
   "metadata": {},
   "outputs": [],
   "source": [
    "import telebot\n",
    "\n",
    "API = '5077538054:AAFacmjTtKwlbz2m-FjWbG_WGxIgbkVVbR0'\n",
    "bot = telebot.TeleBot(API)"
   ]
  },
  {
   "cell_type": "code",
   "execution_count": 225,
   "id": "25a7863f",
   "metadata": {},
   "outputs": [],
   "source": [
    "@bot.message_handler(content_types=['text'])\n",
    "def get_prices(ref):\n",
    "    bot.reply_to(ref, get_df_prices(ref.text))"
   ]
  },
  {
   "cell_type": "code",
   "execution_count": 226,
   "id": "794f61bc",
   "metadata": {},
   "outputs": [
    {
     "name": "stdout",
     "output_type": "stream",
     "text": [
      "1\n",
      "2\n",
      "3\n",
      "4\n",
      "5\n",
      "6\n",
      "7\n",
      "8\n",
      "9\n",
      "10\n",
      "11\n",
      "12\n",
      "13\n",
      "14\n",
      "15\n",
      "16\n",
      "17\n",
      "18\n",
      "19\n"
     ]
    },
    {
     "name": "stderr",
     "output_type": "stream",
     "text": [
      "2023-12-01 15:29:37,801 (__init__.py:966 MainThread) ERROR - TeleBot: \"Infinity polling: polling exited\"\n",
      "2023-12-01 15:29:37,801 (__init__.py:968 MainThread) ERROR - TeleBot: \"Break infinity polling\"\n"
     ]
    }
   ],
   "source": [
    "bot.infinity_polling()"
   ]
  },
  {
   "cell_type": "code",
   "execution_count": null,
   "id": "575270c8",
   "metadata": {},
   "outputs": [],
   "source": []
  }
 ],
 "metadata": {
  "kernelspec": {
   "display_name": "Python 3 (ipykernel)",
   "language": "python",
   "name": "python3"
  },
  "language_info": {
   "codemirror_mode": {
    "name": "ipython",
    "version": 3
   },
   "file_extension": ".py",
   "mimetype": "text/x-python",
   "name": "python",
   "nbconvert_exporter": "python",
   "pygments_lexer": "ipython3",
   "version": "3.10.9"
  }
 },
 "nbformat": 4,
 "nbformat_minor": 5
}
