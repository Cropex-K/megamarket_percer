{
 "cells": [
  {
   "cell_type": "code",
   "execution_count": 1,
   "id": "a8663097",
   "metadata": {
    "ExecuteTime": {
     "end_time": "2023-12-18T10:14:20.959327Z",
     "start_time": "2023-12-18T10:14:19.713588Z"
    }
   },
   "outputs": [],
   "source": [
    "import requests\n",
    "import pandas as pd\n",
    "import os\n",
    "from datetime import datetime\n",
    "import time"
   ]
  },
  {
   "cell_type": "code",
   "execution_count": 2,
   "id": "7f6416e3",
   "metadata": {
    "ExecuteTime": {
     "end_time": "2023-12-18T10:14:20.974282Z",
     "start_time": "2023-12-18T10:14:20.970970Z"
    }
   },
   "outputs": [],
   "source": [
    "def find_class_in_block(block, class_name: str):\n",
    "    class_title = block.find(class_name)\n",
    "    return block[class_title : block.find('</a>', class_title)]\n",
    "\n",
    "\n",
    "def find_obj_by_trigger(cl, trigger, end_trigger):\n",
    "    len_tr = len(trigger)\n",
    "    loc_tr = cl.find(trigger)\n",
    "    return cl[loc_tr+len_tr+1 : cl.find(end_trigger, loc_tr+len_tr+1)]\n",
    "\n",
    "\n",
    "def string_obj(val):\n",
    "    return f''' Продавец {val['Продавец']}\n",
    "    Цена {val['Цена']}\n",
    "    Бонусы {val['Бонусы']}\n",
    "    Итого {val['Итог за вычетом бонуса']}\n",
    "    Ссылка на карточку {val['Ссылка']}\n",
    "    '''"
   ]
  },
  {
   "cell_type": "code",
   "execution_count": 3,
   "id": "2e789dad",
   "metadata": {
    "ExecuteTime": {
     "end_time": "2023-12-18T10:14:23.096004Z",
     "start_time": "2023-12-18T10:14:23.074866Z"
    }
   },
   "outputs": [],
   "source": [
    "def get_df_prices_requests(ref_for_category):\n",
    "    compare_prices = {}\n",
    "    sep = '%20'\n",
    "    ref_for_category = sep.join(ref_for_category.split(' '))\n",
    "\n",
    "    page = 1\n",
    "    while True:\n",
    "        \n",
    "        search_result = requests.get(f'https://megamarket.ru/catalog/page-{page}/?q={sep}{ref_for_category}')#f'{ref_for_category}page-{page}')\n",
    "        search_result.encoding = 'br'\n",
    "\n",
    "        ost = search_result.text.split('<div class=\"sticky-element\"><div class=\"catalog-listing__items catalog-listing__items_divider\">')\n",
    "        if len(ost) < 2:\n",
    "            break\n",
    "        ost_ids = ost[1]\n",
    "\n",
    "        lists_count = ost_ids.split('<nav class=\"pager catalog-listing__pager\">')[1]\n",
    "        ost_ids = ost_ids.split('<nav class=\"pager catalog-listing__pager\">')[0]\n",
    "        ids = ost_ids.split('<div id=')[1:]\n",
    "\n",
    "        for id_pr in ids:\n",
    "            cl=find_class_in_block(id_pr, '<div class=\"item-title\">')\n",
    "            product_id = find_obj_by_trigger(cl, 'data-product-id=', '\"')\n",
    "            name = find_obj_by_trigger(cl, 'title=', '\"')\n",
    "            ref = 'https://megamarket.ru'+find_obj_by_trigger(cl, 'href=', '\"')\n",
    "\n",
    "            cl_merch = find_class_in_block(id_pr, '<div class=\"merchant-info__name\"')\n",
    "            saler = find_obj_by_trigger(cl_merch, '<div class=\"merchant-info__name\"', '<')\n",
    "\n",
    "            cl_price = find_class_in_block(id_pr, '<div class=\"item-money\"')\n",
    "\n",
    "            if len(cl_price) <2:\n",
    "                break\n",
    "            price = find_obj_by_trigger(cl_price, '<div class=\"item-price\"><span', '<')\n",
    "            price = int(price[:-2].replace(' ', ''))\n",
    "            bonus = find_obj_by_trigger(cl_price, '<span class=\"bonus-amount\"', '<')\n",
    "            try:\n",
    "                bonus = int(bonus.replace(' ', ''))\n",
    "            except ValueError:\n",
    "                bonus = 0\n",
    "\n",
    "            compare_prices[product_id] = {'id': product_id,\n",
    "                             'Наименование': name,\n",
    "                             'Ссылка': ref,\n",
    "                             'Продавец': saler,\n",
    "                             'Цена': price,\n",
    "                             'Бонусы': bonus,\n",
    "                             'Итог за вычетом бонуса': price-bonus}\n",
    "        print(page)\n",
    "        page += 1\n",
    "    try:\n",
    "        res = pd.DataFrame().from_dict(compare_prices, orient='index').sort_values(by='Итог за вычетом бонуса')\n",
    "    except KeyError:\n",
    "        return 'Попробуйте ввести запрос по другому'\n",
    "    return f'''Топ 3 варианта:\n",
    "    1. {string_obj(res.iloc[0])}\n",
    "    2. {string_obj(res.iloc[1])}\n",
    "    3. {string_obj(res.iloc[2])}'''"
   ]
  },
  {
   "cell_type": "code",
   "execution_count": 230,
   "id": "a5751cfd",
   "metadata": {
    "ExecuteTime": {
     "end_time": "2023-12-03T11:53:19.906039Z",
     "start_time": "2023-12-03T11:53:03.591570Z"
    }
   },
   "outputs": [],
   "source": [
    "from selenium import webdriver\n",
    "from selenium.webdriver.common.by import By\n",
    "from selenium.webdriver.common.keys import Keys\n",
    "from selenium.common.exceptions import NoSuchElementException\n",
    "import time"
   ]
  },
  {
   "cell_type": "code",
   "execution_count": 231,
   "id": "6100d74a",
   "metadata": {
    "ExecuteTime": {
     "end_time": "2023-12-03T13:26:10.837435Z",
     "start_time": "2023-12-03T13:26:10.822475Z"
    }
   },
   "outputs": [],
   "source": [
    "def get_df_prices_selenium(ref_for_category):\n",
    "    \n",
    "    browser = webdriver.Chrome()#ChromeDriverManager().install())\n",
    "    time.sleep (5) # долго грузится - делаем задержку\n",
    "    \n",
    "    sep = '%20'\n",
    "    ref_for_category = sep.join(ref_for_category.split(' '))\n",
    "    #for category\n",
    "    #ref_for_category = 'https://megamarket.ru/catalog/igrovye-pristavki-playstation/set-ps-5/'\n",
    "\n",
    "    compare_prices = {}\n",
    "    page = 1\n",
    "    while True:\n",
    "        browser.get(f'https://megamarket.ru/catalog/page-{page}/?q={sep}{ref_for_category}')\n",
    "        elements = browser.find_elements(by=By.CLASS_NAME, value='catalog-item.catalog-item-desktop.ddl_product')\n",
    "        if len(elements) == 0:\n",
    "            break\n",
    "\n",
    "        for element in elements:\n",
    "            product_id = element.get_attribute('id')\n",
    "            cl = element.get_attribute('class')\n",
    "            if 'catalog-item_out-of-stock' in cl:\n",
    "                break\n",
    "            title = element.find_element(by=By.CLASS_NAME, value='item-title')\n",
    "            name = title.text       \n",
    "            ref = title.find_element(by=By.TAG_NAME, value='a').get_attribute('href')\n",
    "            saler = element.find_element(by=By.CLASS_NAME, value='merchant-info__name').text\n",
    "            price = element.find_element(by=By.CLASS_NAME, value='item-price').text\n",
    "            price = int(price[:-2].replace(' ', ''))\n",
    "            bonus = 0\n",
    "            try:\n",
    "                bonus = element.find_element(by=By.CLASS_NAME, value='bonus-amount').text\n",
    "                bonus = int(bonus.replace(' ', ''))\n",
    "            except NoSuchElementException:\n",
    "                pass\n",
    "\n",
    "            compare_prices[product_id] = {'id': product_id,\n",
    "                                          'Наименование': name,\n",
    "                                          'Ссылка': ref,\n",
    "                                          'Продавец': saler,\n",
    "                                          'Цена': price,\n",
    "                                          'Бонусы': bonus,\n",
    "                                          'Итог за вычетом бонуса': price-bonus}\n",
    "\n",
    "        page+=1\n",
    "        \n",
    "    res = pd.DataFrame().from_dict(compare_prices, orient='index').sort_values(by='Итог за вычетом бонуса')\n",
    "    browser.close()\n",
    "\n",
    "    return f'''Топ 3 варианта:\n",
    "    1. {string_obj(res.iloc[0])}\n",
    "    2. {string_obj(res.iloc[1])}\n",
    "    3. {string_obj(res.iloc[2])}'''"
   ]
  },
  {
   "cell_type": "code",
   "execution_count": 10,
   "id": "25a7863f",
   "metadata": {
    "ExecuteTime": {
     "end_time": "2023-12-18T10:16:49.477939Z",
     "start_time": "2023-12-18T10:16:49.468677Z"
    }
   },
   "outputs": [],
   "source": [
    "import telebot\n",
    "\n",
    "API = '#'\n",
    "bot = telebot.TeleBot(API)\n",
    "\n",
    "@bot.message_handler(content_types=['text'])\n",
    "def get_prices(ref):\n",
    "    bot.reply_to(ref, text='Ожидайте выполнения запроса')\n",
    "    bot.reply_to(ref, get_df_prices_selenium(ref.text))"
   ]
  },
  {
   "cell_type": "code",
   "execution_count": 11,
   "id": "794f61bc",
   "metadata": {
    "ExecuteTime": {
     "end_time": "2023-12-18T10:18:18.191765Z",
     "start_time": "2023-12-18T10:16:49.656005Z"
    }
   },
   "outputs": [
    {
     "name": "stderr",
     "output_type": "stream",
     "text": [
      "2023-12-18 13:17:00,505 (__init__.py:960 MainThread) ERROR - TeleBot: \"Infinity polling exception: list index out of range\"\n",
      "2023-12-18 13:17:00,507 (__init__.py:962 MainThread) ERROR - TeleBot: \"Exception traceback:\n",
      "Traceback (most recent call last):\n",
      "  File \"/opt/anaconda3/lib/python3.9/site-packages/telebot/__init__.py\", line 955, in infinity_polling\n",
      "    self.polling(non_stop=True, timeout=timeout, long_polling_timeout=long_polling_timeout,\n",
      "  File \"/opt/anaconda3/lib/python3.9/site-packages/telebot/__init__.py\", line 1043, in polling\n",
      "    self.__threaded_polling(non_stop=non_stop, interval=interval, timeout=timeout, long_polling_timeout=long_polling_timeout,\n",
      "  File \"/opt/anaconda3/lib/python3.9/site-packages/telebot/__init__.py\", line 1118, in __threaded_polling\n",
      "    raise e\n",
      "  File \"/opt/anaconda3/lib/python3.9/site-packages/telebot/__init__.py\", line 1074, in __threaded_polling\n",
      "    self.worker_pool.raise_exceptions()\n",
      "  File \"/opt/anaconda3/lib/python3.9/site-packages/telebot/util.py\", line 156, in raise_exceptions\n",
      "    raise self.exception_info\n",
      "  File \"/opt/anaconda3/lib/python3.9/site-packages/telebot/util.py\", line 100, in run\n",
      "    task(*args, **kwargs)\n",
      "  File \"/opt/anaconda3/lib/python3.9/site-packages/telebot/__init__.py\", line 6395, in _run_middlewares_and_handler\n",
      "    result = handler['function'](message)\n",
      "  File \"/var/folders/9g/ycc0ysgs4bv5zk40lfylhy7w0000gn/T/ipykernel_33684/380920401.py\", line 9, in get_prices\n",
      "    bot.reply_to(ref, get_df_prices_requests(ref.text))\n",
      "  File \"/var/folders/9g/ycc0ysgs4bv5zk40lfylhy7w0000gn/T/ipykernel_33684/4046793027.py\", line 17, in get_df_prices_requests\n",
      "    lists_count = ost_ids.split('<nav class=\"pager catalog-listing__pager\">')[1]\n",
      "IndexError: list index out of range\n",
      "\"\n",
      "2023-12-18 13:18:18,188 (__init__.py:966 MainThread) ERROR - TeleBot: \"Infinity polling: polling exited\"\n",
      "2023-12-18 13:18:18,189 (__init__.py:968 MainThread) ERROR - TeleBot: \"Break infinity polling\"\n"
     ]
    }
   ],
   "source": [
    "bot.infinity_polling()"
   ]
  },
  {
   "cell_type": "code",
   "execution_count": null,
   "id": "575270c8",
   "metadata": {},
   "outputs": [],
   "source": []
  }
 ],
 "metadata": {
  "kernelspec": {
   "display_name": "Python 3 (ipykernel)",
   "language": "python",
   "name": "python3"
  },
  "language_info": {
   "codemirror_mode": {
    "name": "ipython",
    "version": 3
   },
   "file_extension": ".py",
   "mimetype": "text/x-python",
   "name": "python",
   "nbconvert_exporter": "python",
   "pygments_lexer": "ipython3",
   "version": "3.9.7"
  },
  "toc": {
   "base_numbering": 1,
   "nav_menu": {},
   "number_sections": true,
   "sideBar": false,
   "skip_h1_title": false,
   "title_cell": "Table of Contents",
   "title_sidebar": "Contents",
   "toc_cell": false,
   "toc_position": {},
   "toc_section_display": true,
   "toc_window_display": false
  },
  "varInspector": {
   "cols": {
    "lenName": 16,
    "lenType": 16,
    "lenVar": 40
   },
   "kernels_config": {
    "python": {
     "delete_cmd_postfix": "",
     "delete_cmd_prefix": "del ",
     "library": "var_list.py",
     "varRefreshCmd": "print(var_dic_list())"
    },
    "r": {
     "delete_cmd_postfix": ") ",
     "delete_cmd_prefix": "rm(",
     "library": "var_list.r",
     "varRefreshCmd": "cat(var_dic_list()) "
    }
   },
   "types_to_exclude": [
    "module",
    "function",
    "builtin_function_or_method",
    "instance",
    "_Feature"
   ],
   "window_display": false
  }
 },
 "nbformat": 4,
 "nbformat_minor": 5
}
